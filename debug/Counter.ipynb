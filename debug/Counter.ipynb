{
 "cells": [
  {
   "cell_type": "code",
   "execution_count": 1,
   "id": "538a4798-95f5-4116-ab6f-f411f9db9fa7",
   "metadata": {},
   "outputs": [],
   "source": [
    "import yoda"
   ]
  },
  {
   "cell_type": "code",
   "execution_count": 2,
   "id": "698a0a2e-b833-405f-a0fc-b53cf1138653",
   "metadata": {},
   "outputs": [],
   "source": [
    "c = yoda.Counter(title=\"hi\")"
   ]
  },
  {
   "cell_type": "code",
   "execution_count": 3,
   "id": "1a8a28c1-7f1b-4f67-8bd8-cbd93ff3a981",
   "metadata": {},
   "outputs": [],
   "source": [
    "yoda.write([c], \"test_counter_v2.yoda\")"
   ]
  },
  {
   "cell_type": "code",
   "execution_count": null,
   "id": "ee895f9f-c60e-4a79-bd2e-e4e474cb7ace",
   "metadata": {},
   "outputs": [],
   "source": []
  }
 ],
 "metadata": {
  "kernelspec": {
   "display_name": "Python 3 (ipykernel)",
   "language": "python",
   "name": "python3"
  },
  "language_info": {
   "codemirror_mode": {
    "name": "ipython",
    "version": 3
   },
   "file_extension": ".py",
   "mimetype": "text/x-python",
   "name": "python",
   "nbconvert_exporter": "python",
   "pygments_lexer": "ipython3",
   "version": "3.12.6"
  }
 },
 "nbformat": 4,
 "nbformat_minor": 5
}
