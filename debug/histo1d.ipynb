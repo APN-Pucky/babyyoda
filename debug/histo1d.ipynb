{
 "cells": [
  {
   "cell_type": "code",
   "execution_count": 1,
   "id": "4045b3af-f990-4dbb-990f-937c5ddeee26",
   "metadata": {},
   "outputs": [],
   "source": [
    "import babyyoda as grogu\n",
    "import matplotlib.pyplot as plt"
   ]
  },
  {
   "cell_type": "code",
   "execution_count": 2,
   "id": "7baf67bd-162a-4740-a694-1eed5c44e028",
   "metadata": {},
   "outputs": [
    {
     "name": "stdout",
     "output_type": "stream",
     "text": [
      "3.0 1.541103500742244\n",
      "3.0 0.9354143466934853\n",
      "4.0 1.0606601717798212\n",
      "5.0 1.1726039399558574\n",
      "6.0 1.2747548783981961\n",
      "7.0 1.3693063937629153\n",
      "8.0 1.4577379737113252\n",
      "8.0 1.9364916731037085\n"
     ]
    },
    {
     "data": {
      "text/plain": [
       "array([ 9.5,  3.5,  4.5,  5.5,  6.5,  7.5,  8.5, 15. ])"
      ]
     },
     "execution_count": 2,
     "metadata": {},
     "output_type": "execute_result"
    }
   ],
   "source": [
    "hists = grogu.read_yoda(\"../tests/test_histo1d_v2.yoda\")\n",
    "for b in hists[\"/\"]:\n",
    "    print(b.sumW(), b.errW() / 2)\n",
    "hists[\"/\"].variances()"
   ]
  },
  {
   "cell_type": "code",
   "execution_count": 3,
   "id": "b75dee9c-0432-4ddb-99f6-53f294b5e122",
   "metadata": {},
   "outputs": [
    {
     "name": "stdout",
     "output_type": "stream",
     "text": [
      "3.0 1.541103500742244\n",
      "3.0 0.9354143466934853\n",
      "4.0 1.0606601717798212\n",
      "5.0 1.1726039399558574\n",
      "6.0 1.2747548783981961\n",
      "7.0 1.3693063937629153\n",
      "8.0 1.4577379737113252\n",
      "8.0 1.9364916731037085\n"
     ]
    },
    {
     "data": {
      "text/plain": [
       "array([ 9.5,  3.5,  4.5,  5.5,  6.5,  7.5,  8.5, 15. ])"
      ]
     },
     "execution_count": 3,
     "metadata": {},
     "output_type": "execute_result"
    }
   ],
   "source": [
    "hists = grogu.read_grogu(\"../tests/test_histo1d_v2.yoda\")\n",
    "for b in hists[\"/\"]:\n",
    "    print(b.sumW(), b.errW() / 2)\n",
    "hists[\"/\"].variances()"
   ]
  },
  {
   "cell_type": "code",
   "execution_count": 4,
   "id": "9e7f5fc2-0126-4a97-b4ab-2b1539245987",
   "metadata": {},
   "outputs": [
    {
     "data": {
      "text/plain": [
       "<matplotlib.lines.Line2D at 0x7f51a6e5fc20>"
      ]
     },
     "execution_count": 4,
     "metadata": {},
     "output_type": "execute_result"
    },
    {
     "data": {
      "image/png": "[encoded data removed]",
      "text/plain": [
       "<Figure size 640x480 with 1 Axes>"
      ]
     },
     "metadata": {},
     "output_type": "display_data"
    }
   ],
   "source": [
    "hists = grogu.read_grogu(\"../tests/test_histo1d_v2.yoda\")\n",
    "hists[\"/\"].plot()\n",
    "plt.ylim([2, 4.5])\n",
    "plt.grid()\n",
    "plt.axhline(y=4 - 1.9364916731037085, color=\"black\", linestyle=\"-\", linewidth=2)"
   ]
  },
  {
   "cell_type": "code",
   "execution_count": 5,
   "id": "88fe7219-6233-4574-a5f2-8a7ae69975c9",
   "metadata": {},
   "outputs": [
    {
     "data": {
      "image/png": "[encoded data removed]",
      "text/plain": [
       "<Figure size 640x480 with 1 Axes>"
      ]
     },
     "metadata": {},
     "output_type": "display_data"
    }
   ],
   "source": [
    "hists = grogu.read_yoda(\"../tests/test_histo1d_v2.yoda\")\n",
    "hists[\"/\"]"
   ]
  },
  {
   "cell_type": "code",
   "execution_count": 6,
   "id": "4d72c698-ab00-4ff8-be33-833260b1fc01",
   "metadata": {},
   "outputs": [
    {
     "name": "stdout",
     "output_type": "stream",
     "text": [
      "39.0 28.0\n",
      "0.2727272727272727 648.0\n",
      "0.17391304347826086 1239.6521739130435\n",
      "0.1282051282051282 2030.7692307692307\n",
      "0.1016949152542373 274.5762711864407\n",
      "0.08433734939759036 382.5542168674699\n",
      "0.07207207207207207 508.5405405405405\n",
      "1.1428571428571428 1157.142857142857\n"
     ]
    }
   ],
   "source": [
    "for b in hists[\"/\"]:\n",
    "    print(b.variance(), b.xVariance())"
   ]
  },
  {
   "cell_type": "code",
   "execution_count": 7,
   "id": "159c7b2f-e18e-43f6-a630-c6f9ac062a25",
   "metadata": {},
   "outputs": [],
   "source": [
    "hists = grogu.read_yoda(\"../tests/test_histo1d_v2.yoda\")\n",
    "# hists[\"/\"]"
   ]
  },
  {
   "cell_type": "code",
   "execution_count": 8,
   "id": "2773a80a-4f50-456c-b2a5-b4db8d3d719b",
   "metadata": {},
   "outputs": [
    {
     "data": {
      "text/plain": [
       "<Dbn1D(mean=1.0, stddev=0.35805743701971643)>"
      ]
     },
     "execution_count": 8,
     "metadata": {},
     "output_type": "execute_result"
    }
   ],
   "source": [
    "hists[\"/\"][grogu.loc(3.5) + 1]"
   ]
  },
  {
   "cell_type": "code",
   "execution_count": 9,
   "id": "d0cecc9f-4f12-4b70-b4cc-72442582dabc",
   "metadata": {},
   "outputs": [
    {
     "data": {
      "text/plain": [
       "array([3., 3., 4., 5., 6., 7., 8., 8.])"
      ]
     },
     "execution_count": 9,
     "metadata": {},
     "output_type": "execute_result"
    }
   ],
   "source": [
    "hists[\"/\"].values()"
   ]
  },
  {
   "cell_type": "code",
   "execution_count": 10,
   "id": "bef63e37-e04d-4541-8eb5-bf11b315fcf8",
   "metadata": {},
   "outputs": [
    {
     "data": {
      "text/plain": [
       "array([ 9.5,  3.5,  4.5,  5.5,  6.5,  7.5,  8.5, 15. ])"
      ]
     },
     "execution_count": 10,
     "metadata": {},
     "output_type": "execute_result"
    }
   ],
   "source": [
    "hists[\"/\"].variances()"
   ]
  },
  {
   "cell_type": "code",
   "execution_count": 11,
   "id": "9391df8c-07f5-4777-87dc-619e3ff9c8e5",
   "metadata": {},
   "outputs": [
    {
     "data": {
      "text/plain": [
       "5.0"
      ]
     },
     "execution_count": 11,
     "metadata": {},
     "output_type": "execute_result"
    }
   ],
   "source": [
    "hists[\"/\"].counts()[0]"
   ]
  },
  {
   "cell_type": "code",
   "execution_count": 12,
   "id": "26407638-40d0-4f73-81d1-6a795a8a6d5f",
   "metadata": {},
   "outputs": [
    {
     "data": {
      "text/plain": [
       "array([ 9.5,  3.5,  4.5,  5.5,  6.5,  7.5,  8.5, 15. ])"
      ]
     },
     "execution_count": 12,
     "metadata": {},
     "output_type": "execute_result"
    }
   ],
   "source": [
    "hists[\"/\"].sumW2s()"
   ]
  },
  {
   "cell_type": "code",
   "execution_count": 13,
   "id": "878a5396-f255-4d82-a21e-0c00c356d532",
   "metadata": {},
   "outputs": [
    {
     "name": "stdout",
     "output_type": "stream",
     "text": [
      "3.0 1.541103500742244\n",
      "3.0 0.9354143466934853\n",
      "4.0 1.0606601717798212\n",
      "5.0 1.1726039399558574\n",
      "6.0 1.2747548783981961\n",
      "7.0 1.3693063937629153\n",
      "8.0 1.4577379737113252\n",
      "8.0 1.9364916731037085\n"
     ]
    }
   ],
   "source": [
    "for b in hists[\"/\"]:\n",
    "    print(b.sumW(), b.errW() / 2)"
   ]
  },
  {
   "cell_type": "code",
   "execution_count": 14,
   "id": "0cbcb048-ab07-49ad-8759-3f8a371a0a42",
   "metadata": {},
   "outputs": [
    {
     "ename": "AttributeError",
     "evalue": "'HISTO1D_V2' object and target have no attribute 'yVals'",
     "output_type": "error",
     "traceback": [
      "\u001b[0;31m---------------------------------------------------------------------------\u001b[0m",
      "\u001b[0;31mAttributeError\u001b[0m                            Traceback (most recent call last)",
      "Cell \u001b[0;32mIn[14], line 1\u001b[0m\n\u001b[0;32m----> 1\u001b[0m \u001b[43mhists\u001b[49m\u001b[43m[\u001b[49m\u001b[38;5;124;43m\"\u001b[39;49m\u001b[38;5;124;43m/\u001b[39;49m\u001b[38;5;124;43m\"\u001b[39;49m\u001b[43m]\u001b[49m\u001b[38;5;241;43m.\u001b[39;49m\u001b[43myVals\u001b[49m()\n",
      "File \u001b[0;32m~/.local/lib/python3.12/site-packages/babyyoda/Histo1D_v2.py:24\u001b[0m, in \u001b[0;36mHISTO1D_V2.__getattr__\u001b[0;34m(self, name)\u001b[0m\n\u001b[1;32m     22\u001b[0m \u001b[38;5;28;01melif\u001b[39;00m \u001b[38;5;28mhasattr\u001b[39m(\u001b[38;5;28mself\u001b[39m\u001b[38;5;241m.\u001b[39mtarget, name):\n\u001b[1;32m     23\u001b[0m     \u001b[38;5;28;01mreturn\u001b[39;00m \u001b[38;5;28mgetattr\u001b[39m(\u001b[38;5;28mself\u001b[39m\u001b[38;5;241m.\u001b[39mtarget, name)\n\u001b[0;32m---> 24\u001b[0m \u001b[38;5;28;01mraise\u001b[39;00m \u001b[38;5;167;01mAttributeError\u001b[39;00m(\n\u001b[1;32m     25\u001b[0m     \u001b[38;5;124mf\u001b[39m\u001b[38;5;124m\"\u001b[39m\u001b[38;5;124m'\u001b[39m\u001b[38;5;132;01m{\u001b[39;00m\u001b[38;5;28mtype\u001b[39m(\u001b[38;5;28mself\u001b[39m)\u001b[38;5;241m.\u001b[39m\u001b[38;5;18m__name__\u001b[39m\u001b[38;5;132;01m}\u001b[39;00m\u001b[38;5;124m'\u001b[39m\u001b[38;5;124m object and target have no attribute \u001b[39m\u001b[38;5;124m'\u001b[39m\u001b[38;5;132;01m{\u001b[39;00mname\u001b[38;5;132;01m}\u001b[39;00m\u001b[38;5;124m'\u001b[39m\u001b[38;5;124m\"\u001b[39m\n\u001b[1;32m     26\u001b[0m )\n",
      "\u001b[0;31mAttributeError\u001b[0m: 'HISTO1D_V2' object and target have no attribute 'yVals'"
     ]
    }
   ],
   "source": [
    "hists[\"/\"].yVals()"
   ]
  },
  {
   "cell_type": "code",
   "execution_count": null,
   "id": "5f639161-6496-4c52-a9ae-fff6cf1292a9",
   "metadata": {},
   "outputs": [],
   "source": [
    "import yoda\n",
    "\n",
    "hists = yoda.read(\"../tests/test_histo1d_v2.yoda\")"
   ]
  },
  {
   "cell_type": "code",
   "execution_count": null,
   "id": "0b9b6237-bf2c-42d8-87d9-f9e45d108a7b",
   "metadata": {},
   "outputs": [],
   "source": [
    "h = hists[\"/\"]"
   ]
  },
  {
   "cell_type": "code",
   "execution_count": null,
   "id": "a78c6ed3-af01-4ae5-8ee2-098c0d1ddb5d",
   "metadata": {},
   "outputs": [],
   "source": [
    "h.mkScatter().yErrs()"
   ]
  },
  {
   "cell_type": "code",
   "execution_count": null,
   "id": "4268e817-fb1c-4b80-933c-384f7e7cb984",
   "metadata": {},
   "outputs": [],
   "source": [
    "h.binAt(5).val()"
   ]
  },
  {
   "cell_type": "code",
   "execution_count": null,
   "id": "c50b2e7e-ab28-47b3-93b1-4d887326c2d1",
   "metadata": {},
   "outputs": [],
   "source": []
  }
 ],
 "metadata": {
  "kernelspec": {
   "display_name": "Python 3 (ipykernel)",
   "language": "python",
   "name": "python3"
  },
  "language_info": {
   "codemirror_mode": {
    "name": "ipython",
    "version": 3
   },
   "file_extension": ".py",
   "mimetype": "text/x-python",
   "name": "python",
   "nbconvert_exporter": "python",
   "pygments_lexer": "ipython3",
   "version": "3.12.6"
  }
 },
 "nbformat": 4,
 "nbformat_minor": 5
}
