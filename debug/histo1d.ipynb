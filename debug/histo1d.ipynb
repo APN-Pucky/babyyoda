{
 "cells": [
  {
   "cell_type": "code",
   "execution_count": 1,
   "id": "4045b3af-f990-4dbb-990f-937c5ddeee26",
   "metadata": {},
   "outputs": [],
   "source": [
    "import babyyoda as grogu\n",
    "import matplotlib.pyplot as plt"
   ]
  },
  {
   "cell_type": "code",
   "execution_count": 2,
   "id": "7baf67bd-162a-4740-a694-1eed5c44e028",
   "metadata": {},
   "outputs": [
    {
     "ename": "AttributeError",
     "evalue": "'yoda.core.HistoBin1D' object has no attribute 'errW'",
     "output_type": "error",
     "traceback": [
      "\u001b[0;31m---------------------------------------------------------------------------\u001b[0m",
      "\u001b[0;31mAttributeError\u001b[0m                            Traceback (most recent call last)",
      "Cell \u001b[0;32mIn[2], line 3\u001b[0m\n\u001b[1;32m      1\u001b[0m hists \u001b[38;5;241m=\u001b[39m grogu\u001b[38;5;241m.\u001b[39mread_yoda(\u001b[38;5;124m\"\u001b[39m\u001b[38;5;124m../tests/test_histo1d_v2.yoda\u001b[39m\u001b[38;5;124m\"\u001b[39m)\n\u001b[1;32m      2\u001b[0m \u001b[38;5;28;01mfor\u001b[39;00m b \u001b[38;5;129;01min\u001b[39;00m hists[\u001b[38;5;124m\"\u001b[39m\u001b[38;5;124m/\u001b[39m\u001b[38;5;124m\"\u001b[39m]:\n\u001b[0;32m----> 3\u001b[0m     \u001b[38;5;28mprint\u001b[39m(b\u001b[38;5;241m.\u001b[39msumW(), \u001b[43mb\u001b[49m\u001b[38;5;241;43m.\u001b[39;49m\u001b[43merrW\u001b[49m()\u001b[38;5;241m/\u001b[39m\u001b[38;5;241m2\u001b[39m)\n\u001b[1;32m      4\u001b[0m hists[\u001b[38;5;124m\"\u001b[39m\u001b[38;5;124m/\u001b[39m\u001b[38;5;124m\"\u001b[39m]\u001b[38;5;241m.\u001b[39mvariances()\n",
      "\u001b[0;31mAttributeError\u001b[0m: 'yoda.core.HistoBin1D' object has no attribute 'errW'"
     ]
    }
   ],
   "source": [
    "hists = grogu.read_yoda(\"../tests/test_histo1d_v2.yoda\")\n",
    "for b in hists[\"/\"]:\n",
    "    print(b.sumW(), b.errW() / 2)\n",
    "hists[\"/\"].variances()"
   ]
  },
  {
   "cell_type": "code",
   "execution_count": null,
   "id": "b75dee9c-0432-4ddb-99f6-53f294b5e122",
   "metadata": {},
   "outputs": [],
   "source": [
    "hists = grogu.read_grogu(\"../tests/test_histo1d_v2.yoda\")\n",
    "for b in hists[\"/\"]:\n",
    "    print(b.sumW(), b.errW() / 2)\n",
    "hists[\"/\"].variances()"
   ]
  },
  {
   "cell_type": "code",
   "execution_count": null,
   "id": "9e7f5fc2-0126-4a97-b4ab-2b1539245987",
   "metadata": {},
   "outputs": [],
   "source": [
    "hists = grogu.read_grogu(\"../tests/test_histo1d_v2.yoda\")\n",
    "hists[\"/\"].plot()\n",
    "plt.ylim([2, 4.5])\n",
    "plt.grid()\n",
    "plt.axhline(y=4 - 1.9364916731037085, color=\"black\", linestyle=\"-\", linewidth=2)"
   ]
  },
  {
   "cell_type": "code",
   "execution_count": null,
   "id": "88fe7219-6233-4574-a5f2-8a7ae69975c9",
   "metadata": {},
   "outputs": [],
   "source": [
    "hists = grogu.read_yoda(\"../tests/test_histo1d_v2.yoda\")\n",
    "hists[\"/\"]"
   ]
  },
  {
   "cell_type": "code",
   "execution_count": null,
   "id": "4d72c698-ab00-4ff8-be33-833260b1fc01",
   "metadata": {},
   "outputs": [],
   "source": [
    "for b in hists[\"/\"]:\n",
    "    print(b.variance(), b.xVariance())"
   ]
  },
  {
   "cell_type": "code",
   "execution_count": null,
   "id": "159c7b2f-e18e-43f6-a630-c6f9ac062a25",
   "metadata": {},
   "outputs": [],
   "source": [
    "hists = grogu.read_yoda(\"../tests/test_histo1d_v2.yoda\")\n",
    "# hists[\"/\"]"
   ]
  },
  {
   "cell_type": "code",
   "execution_count": null,
   "id": "2773a80a-4f50-456c-b2a5-b4db8d3d719b",
   "metadata": {},
   "outputs": [],
   "source": [
    "hists[\"/\"][grogu.loc(3.5) + 1]"
   ]
  },
  {
   "cell_type": "code",
   "execution_count": null,
   "id": "d0cecc9f-4f12-4b70-b4cc-72442582dabc",
   "metadata": {},
   "outputs": [],
   "source": [
    "hists[\"/\"].values()"
   ]
  },
  {
   "cell_type": "code",
   "execution_count": null,
   "id": "bef63e37-e04d-4541-8eb5-bf11b315fcf8",
   "metadata": {},
   "outputs": [],
   "source": [
    "hists[\"/\"].variances()"
   ]
  },
  {
   "cell_type": "code",
   "execution_count": null,
   "id": "9391df8c-07f5-4777-87dc-619e3ff9c8e5",
   "metadata": {},
   "outputs": [],
   "source": [
    "hists[\"/\"].counts()[0]"
   ]
  },
  {
   "cell_type": "code",
   "execution_count": null,
   "id": "26407638-40d0-4f73-81d1-6a795a8a6d5f",
   "metadata": {},
   "outputs": [],
   "source": [
    "hists[\"/\"].sumW2s()"
   ]
  },
  {
   "cell_type": "code",
   "execution_count": null,
   "id": "878a5396-f255-4d82-a21e-0c00c356d532",
   "metadata": {},
   "outputs": [],
   "source": [
    "for b in hists[\"/\"]:\n",
    "    print(b.sumW(), b.errW() / 2)"
   ]
  },
  {
   "cell_type": "code",
   "execution_count": null,
   "id": "0cbcb048-ab07-49ad-8759-3f8a371a0a42",
   "metadata": {},
   "outputs": [],
   "source": [
    "hists[\"/\"].yVals()"
   ]
  },
  {
   "cell_type": "code",
   "execution_count": null,
   "id": "5f639161-6496-4c52-a9ae-fff6cf1292a9",
   "metadata": {},
   "outputs": [],
   "source": [
    "import yoda\n",
    "\n",
    "hists = yoda.read(\"../tests/test_histo1d_v2.yoda\")"
   ]
  },
  {
   "cell_type": "code",
   "execution_count": 3,
   "id": "0b9b6237-bf2c-42d8-87d9-f9e45d108a7b",
   "metadata": {},
   "outputs": [],
   "source": [
    "h = hists[\"/\"]"
   ]
  },
  {
   "cell_type": "code",
   "execution_count": 4,
   "id": "a78c6ed3-af01-4ae5-8ee2-098c0d1ddb5d",
   "metadata": {},
   "outputs": [
    {
     "data": {
      "text/plain": [
       "array([[1.5411035 , 1.5411035 ],\n",
       "       [1.87082869, 1.87082869],\n",
       "       [2.12132034, 2.12132034],\n",
       "       [2.34520788, 2.34520788],\n",
       "       [2.54950976, 2.54950976],\n",
       "       [2.73861279, 2.73861279],\n",
       "       [2.91547595, 2.91547595],\n",
       "       [1.93649167, 1.93649167]])"
      ]
     },
     "execution_count": 4,
     "metadata": {},
     "output_type": "execute_result"
    }
   ],
   "source": [
    "h.mkScatter().yErrs()"
   ]
  },
  {
   "cell_type": "code",
   "execution_count": 5,
   "id": "4268e817-fb1c-4b80-933c-384f7e7cb984",
   "metadata": {},
   "outputs": [
    {
     "ename": "AttributeError",
     "evalue": "'yoda.core.HistoBin1D' object has no attribute 'val'",
     "output_type": "error",
     "traceback": [
      "\u001b[0;31m---------------------------------------------------------------------------\u001b[0m",
      "\u001b[0;31mAttributeError\u001b[0m                            Traceback (most recent call last)",
      "Cell \u001b[0;32mIn[5], line 1\u001b[0m\n\u001b[0;32m----> 1\u001b[0m \u001b[43mh\u001b[49m\u001b[38;5;241;43m.\u001b[39;49m\u001b[43mbinAt\u001b[49m\u001b[43m(\u001b[49m\u001b[38;5;241;43m5\u001b[39;49m\u001b[43m)\u001b[49m\u001b[38;5;241;43m.\u001b[39;49m\u001b[43mval\u001b[49m()\n",
      "\u001b[0;31mAttributeError\u001b[0m: 'yoda.core.HistoBin1D' object has no attribute 'val'"
     ]
    }
   ],
   "source": []
  },
  {
   "cell_type": "code",
   "execution_count": 7,
   "id": "b21bc5fc-7a38-428b-807f-607d262fd35d",
   "metadata": {},
   "outputs": [],
   "source": [
    "b = h.target.bins()[0]"
   ]
  },
  {
   "cell_type": "code",
   "execution_count": 12,
   "id": "c50b2e7e-ab28-47b3-93b1-4d887326c2d1",
   "metadata": {},
   "outputs": [],
   "source": [
    "hh = h.clone()"
   ]
  },
  {
   "cell_type": "code",
   "execution_count": 17,
   "id": "4a6dd955-aab4-40a4-97fd-0605ea7c38ee",
   "metadata": {},
   "outputs": [
    {
     "ename": "AttributeError",
     "evalue": "'yoda.core.HistoBin1D' object has no attribute 'reset'",
     "output_type": "error",
     "traceback": [
      "\u001b[0;31m---------------------------------------------------------------------------\u001b[0m",
      "\u001b[0;31mAttributeError\u001b[0m                            Traceback (most recent call last)",
      "Cell \u001b[0;32mIn[17], line 2\u001b[0m\n\u001b[1;32m      1\u001b[0m \u001b[38;5;28;01mfor\u001b[39;00m b \u001b[38;5;129;01min\u001b[39;00m hh\u001b[38;5;241m.\u001b[39mbins():\n\u001b[0;32m----> 2\u001b[0m     \u001b[43mb\u001b[49m\u001b[38;5;241;43m.\u001b[39;49m\u001b[43mreset\u001b[49m()\n",
      "\u001b[0;31mAttributeError\u001b[0m: 'yoda.core.HistoBin1D' object has no attribute 'reset'"
     ]
    }
   ],
   "source": [
    "for b in hh.bins():\n",
    "    b.reset()"
   ]
  },
  {
   "cell_type": "code",
   "execution_count": null,
   "id": "0657ac59-d83d-46cd-8cd4-ae6d2e389ac7",
   "metadata": {},
   "outputs": [],
   "source": []
  }
 ],
 "metadata": {
  "kernelspec": {
   "display_name": "Python 3 (ipykernel)",
   "language": "python",
   "name": "python3"
  },
  "language_info": {
   "codemirror_mode": {
    "name": "ipython",
    "version": 3
   },
   "file_extension": ".py",
   "mimetype": "text/x-python",
   "name": "python",
   "nbconvert_exporter": "python",
   "pygments_lexer": "ipython3",
   "version": "3.12.6"
  }
 },
 "nbformat": 4,
 "nbformat_minor": 5
}
